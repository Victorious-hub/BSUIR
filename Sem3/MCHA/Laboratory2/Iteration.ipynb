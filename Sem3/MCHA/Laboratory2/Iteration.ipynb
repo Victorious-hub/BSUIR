{
 "cells": [
  {
   "cell_type": "code",
   "execution_count": 1,
   "id": "initial_id",
   "metadata": {
    "collapsed": true,
    "ExecuteTime": {
     "end_time": "2023-10-15T14:45:36.725096100Z",
     "start_time": "2023-10-15T14:45:36.226627200Z"
    }
   },
   "outputs": [],
   "source": [
    "from tools_func import *\n",
    "from iteration_method import iteration_method\n",
    "from seidel_method import seidel_method"
   ]
  },
  {
   "cell_type": "code",
   "execution_count": 2,
   "outputs": [
    {
     "name": "stdout",
     "output_type": "stream",
     "text": [
      "Выберите метод решения:\n",
      "1. Итерационный(1) \n",
      "2. Метод Зейделя(2) \n",
      "3. Выход из программы(0)\n"
     ]
    }
   ],
   "source": [
    "\n",
    "k = 15\n",
    "E = 0.0001\n",
    "C = np.array([\n",
    "    [0.01, 0, -0.02, 0, 0],\n",
    "    [0.01, 0.01, -0.02, 0, 0],\n",
    "    [0, 0.01, 0.01, 0, -0.02],\n",
    "    [0, 0, 0.01, 0.01, 0],\n",
    "    [0, 0, 0, 0.01, 0.01]\n",
    "])\n",
    "\n",
    "D = np.array([\n",
    "    [1.33, 0.21, 0.17, 0.12, -0.13],\n",
    "    [-0.13, -1.33, 0.11, 0.17, 0.12],\n",
    "    [0.12, -0.13, -1.33, 0.11, 0.17],\n",
    "    [0.17, 0.12, -0.13, -1.33, 0.11],\n",
    "    [0.11, 0.67, 0.12, -0.13, -1.33]\n",
    "])\n",
    "\n",
    "b = np.array(\n",
    "    [1.2, 2.2, 4.0, 0, -1.2]\n",
    ")\n",
    "\n",
    "A = k * C + D\n",
    "e = 0.0001\n",
    "print(f\"Выберите метод решения:\\n1. Итерационный(1) \\n2. Метод Зейделя(2) \\n3. Выход из программы(0)\")"
   ],
   "metadata": {
    "collapsed": false,
    "ExecuteTime": {
     "end_time": "2023-10-15T14:45:36.734155800Z",
     "start_time": "2023-10-15T14:45:36.726096400Z"
    }
   },
   "id": "290053f68293eb41"
  },
  {
   "cell_type": "code",
   "execution_count": 3,
   "outputs": [
    {
     "name": "stdout",
     "output_type": "stream",
     "text": [
      "[[1.]]\n",
      "X solution converges by spectrum\n",
      "Spectrum of matrix: 0.0\n",
      "||B||_0 = 0.0\n",
      "||B||_1 = 0.0\n",
      "||B||_F = 0.0\n",
      "*** Iteration method result ***\n",
      "X = [[1.]]\n",
      " Done in 1 iterations\n",
      "X solution converges by spectrum\n",
      "Spectrum of matrix: 0.0\n",
      "||B||_0 = 0.0\n",
      "||B||_1 = 0.0\n",
      "*** Seidel method result ***\n",
      "X = [[1.]]\n",
      "Done in 1 iterations\n"
     ]
    }
   ],
   "source": [
    "b1 = np.array(list(map(float, input().split())))\n",
    "A1 = np.array([list(map(float, input().split())) for _ in range(len(b1))])\n",
    "print(A1)\n",
    "x_iteration = iteration_method(A1, b1, e, 1)\n",
    "print(f'*** Iteration method result ***\\nX = {x_iteration[0].reshape((1, x_iteration[0].shape[0]))}\\n '\n",
    "      f'Done in {x_iteration[1]} iterations')\n",
    "x_seidel = seidel_method(A1, b1, e, 1)\n",
    "print(f'*** Seidel method result ***\\nX = {x_seidel[0].reshape((1, x_seidel[0].shape[0]))}\\n'\n",
    "      f'Done in {x_seidel[1]} iterations')\n",
    "\n"
   ],
   "metadata": {
    "collapsed": false,
    "ExecuteTime": {
     "end_time": "2023-10-15T14:45:50.854323800Z",
     "start_time": "2023-10-15T14:45:36.735154500Z"
    }
   },
   "id": "a53073c12e017bc4"
  },
  {
   "cell_type": "code",
   "execution_count": 4,
   "outputs": [
    {
     "name": "stdout",
     "output_type": "stream",
     "text": [
      "X solution converges by spectrum\n",
      "Spectrum of matrix: 0.31745967358133764\n",
      "||B||_0 = 0.7796610169491524\n",
      "||B||_1 = 0.8283325698579935\n",
      "||B||_F = 0.2563464302928828\n",
      "*** Iteration method result ***\n",
      "X = [[ 0.71144146 -1.32771711 -3.34704311 -0.09042077 -0.01249761]]\n",
      " Done in 8 iterations\n",
      "X solution converges by spectrum\n",
      "Spectrum of matrix: 0.31745967358133764\n",
      "||B||_0 = 0.7796610169491524\n",
      "||B||_1 = 0.8283325698579935\n",
      "*** Seidel method result ***\n",
      "X = [[ 0.71145534 -1.32772755 -3.3470268  -0.09042784 -0.01251623]]\n",
      "Done in 6 iterations\n"
     ]
    }
   ],
   "source": [
    "x_iteration = iteration_method(A, b, e, 1)\n",
    "print(f'*** Iteration method result ***\\nX = {x_iteration[0].reshape((1, x_iteration[0].shape[0]))}\\n '\n",
    "      f'Done in {x_iteration[1]} iterations')\n",
    "x_seidel = seidel_method(A, b, e, 1)\n",
    "print(f'*** Seidel method result ***\\nX = {x_seidel[0].reshape((1, x_seidel[0].shape[0]))}\\n'\n",
    "      f'Done in {x_seidel[1]} iterations')"
   ],
   "metadata": {
    "collapsed": false,
    "ExecuteTime": {
     "end_time": "2023-10-15T14:45:50.861493800Z",
     "start_time": "2023-10-15T14:45:50.852702400Z"
    }
   },
   "id": "5b61a75dd87cbebe"
  },
  {
   "cell_type": "code",
   "execution_count": 5,
   "outputs": [
    {
     "data": {
      "text/plain": "'\"# Real exactly solution\\nx_real = np.linalg.solve(A, b)\\nprint(f\\'Real Accurate solution *X*\\n{x_real}\\n\\')\\n'"
     },
     "execution_count": 5,
     "metadata": {},
     "output_type": "execute_result"
    }
   ],
   "source": [
    "\"\"\"\"# Real exactly solution\n",
    "x_real = np.linalg.solve(A, b)\n",
    "print(f'Real Accurate solution *X*\\n{x_real}\\n')\n",
    "\"\"\"\n",
    "\n",
    "# Iteration method\n",
    "# print('-' * 17 * x_real.shape[0])\n",
    "\n",
    "# print('-' * 17 * x_real.shape[0])\n",
    "\n",
    "# Gauss - seidel method\n",
    "# print('-' * 17 * x_real.shape[0])"
   ],
   "metadata": {
    "collapsed": false,
    "ExecuteTime": {
     "end_time": "2023-10-15T14:45:50.864533100Z",
     "start_time": "2023-10-15T14:45:50.860340Z"
    }
   },
   "id": "a4a5c2587e5544a"
  },
  {
   "cell_type": "code",
   "execution_count": 5,
   "outputs": [],
   "source": [],
   "metadata": {
    "collapsed": false,
    "ExecuteTime": {
     "end_time": "2023-10-15T14:45:50.948530400Z",
     "start_time": "2023-10-15T14:45:50.865531600Z"
    }
   },
   "id": "6acdf67e809a1d60"
  }
 ],
 "metadata": {
  "kernelspec": {
   "display_name": "Python 3",
   "language": "python",
   "name": "python3"
  },
  "language_info": {
   "codemirror_mode": {
    "name": "ipython",
    "version": 2
   },
   "file_extension": ".py",
   "mimetype": "text/x-python",
   "name": "python",
   "nbconvert_exporter": "python",
   "pygments_lexer": "ipython2",
   "version": "2.7.6"
  }
 },
 "nbformat": 4,
 "nbformat_minor": 5
}
